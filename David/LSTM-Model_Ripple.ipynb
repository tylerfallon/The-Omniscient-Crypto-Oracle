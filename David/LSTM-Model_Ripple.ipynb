{
 "cells": [
  {
   "cell_type": "code",
   "execution_count": 1,
   "id": "a3bb13bb",
   "metadata": {},
   "outputs": [],
   "source": [
    "# Import necessary libraries\n",
    "import pandas as pd\n",
    "import numpy as np\n",
    "import matplotlib.pyplot as plt\n",
    "from keras.layers import Activation, Dense, Dropout, LSTM\n",
    "from keras.models import Sequential\n",
    "import tensorflow as tf\n",
    "from sklearn.preprocessing import MinMaxScaler"
   ]
  },
  {
   "cell_type": "code",
   "execution_count": 2,
   "id": "ee6789e8",
   "metadata": {},
   "outputs": [
    {
     "data": {
      "text/html": [
       "<div>\n",
       "<style scoped>\n",
       "    .dataframe tbody tr th:only-of-type {\n",
       "        vertical-align: middle;\n",
       "    }\n",
       "\n",
       "    .dataframe tbody tr th {\n",
       "        vertical-align: top;\n",
       "    }\n",
       "\n",
       "    .dataframe thead th {\n",
       "        text-align: right;\n",
       "    }\n",
       "</style>\n",
       "<table border=\"1\" class=\"dataframe\">\n",
       "  <thead>\n",
       "    <tr style=\"text-align: right;\">\n",
       "      <th></th>\n",
       "      <th>Symbol</th>\n",
       "      <th>PriceUSD</th>\n",
       "      <th>Percent of Change</th>\n",
       "    </tr>\n",
       "    <tr>\n",
       "      <th>time</th>\n",
       "      <th></th>\n",
       "      <th></th>\n",
       "      <th></th>\n",
       "    </tr>\n",
       "  </thead>\n",
       "  <tbody>\n",
       "    <tr>\n",
       "      <th>2010-07-18</th>\n",
       "      <td>btc</td>\n",
       "      <td>0.085840</td>\n",
       "      <td>0</td>\n",
       "    </tr>\n",
       "    <tr>\n",
       "      <th>2010-07-19</th>\n",
       "      <td>btc</td>\n",
       "      <td>0.080800</td>\n",
       "      <td>0</td>\n",
       "    </tr>\n",
       "    <tr>\n",
       "      <th>2010-07-20</th>\n",
       "      <td>btc</td>\n",
       "      <td>0.074736</td>\n",
       "      <td>0</td>\n",
       "    </tr>\n",
       "    <tr>\n",
       "      <th>2010-07-21</th>\n",
       "      <td>btc</td>\n",
       "      <td>0.079193</td>\n",
       "      <td>0</td>\n",
       "    </tr>\n",
       "    <tr>\n",
       "      <th>2010-07-22</th>\n",
       "      <td>btc</td>\n",
       "      <td>0.058470</td>\n",
       "      <td>0</td>\n",
       "    </tr>\n",
       "  </tbody>\n",
       "</table>\n",
       "</div>"
      ],
      "text/plain": [
       "           Symbol  PriceUSD  Percent of Change\n",
       "time                                          \n",
       "2010-07-18    btc  0.085840                  0\n",
       "2010-07-19    btc  0.080800                  0\n",
       "2010-07-20    btc  0.074736                  0\n",
       "2010-07-21    btc  0.079193                  0\n",
       "2010-07-22    btc  0.058470                  0"
      ]
     },
     "execution_count": 2,
     "metadata": {},
     "output_type": "execute_result"
    }
   ],
   "source": [
    "# Load data into a DataFrame\n",
    "df = pd.read_csv(\"../aaron/working_dataset.csv\").set_index(\"time\")\n",
    "df.index = pd.to_datetime(df.index)\n",
    "df.head()"
   ]
  },
  {
   "cell_type": "code",
   "execution_count": 3,
   "id": "f2148556",
   "metadata": {},
   "outputs": [
    {
     "data": {
      "text/html": [
       "<div>\n",
       "<style scoped>\n",
       "    .dataframe tbody tr th:only-of-type {\n",
       "        vertical-align: middle;\n",
       "    }\n",
       "\n",
       "    .dataframe tbody tr th {\n",
       "        vertical-align: top;\n",
       "    }\n",
       "\n",
       "    .dataframe thead th {\n",
       "        text-align: right;\n",
       "    }\n",
       "</style>\n",
       "<table border=\"1\" class=\"dataframe\">\n",
       "  <thead>\n",
       "    <tr style=\"text-align: right;\">\n",
       "      <th></th>\n",
       "      <th>Symbol</th>\n",
       "      <th>PriceUSD</th>\n",
       "      <th>Percent of Change</th>\n",
       "    </tr>\n",
       "    <tr>\n",
       "      <th>time</th>\n",
       "      <th></th>\n",
       "      <th></th>\n",
       "      <th></th>\n",
       "    </tr>\n",
       "  </thead>\n",
       "  <tbody>\n",
       "    <tr>\n",
       "      <th>2014-08-15</th>\n",
       "      <td>xrp</td>\n",
       "      <td>0.005599</td>\n",
       "      <td>0</td>\n",
       "    </tr>\n",
       "    <tr>\n",
       "      <th>2014-08-16</th>\n",
       "      <td>xrp</td>\n",
       "      <td>0.005583</td>\n",
       "      <td>0</td>\n",
       "    </tr>\n",
       "    <tr>\n",
       "      <th>2014-08-17</th>\n",
       "      <td>xrp</td>\n",
       "      <td>0.008398</td>\n",
       "      <td>0</td>\n",
       "    </tr>\n",
       "    <tr>\n",
       "      <th>2014-08-18</th>\n",
       "      <td>xrp</td>\n",
       "      <td>0.004685</td>\n",
       "      <td>0</td>\n",
       "    </tr>\n",
       "    <tr>\n",
       "      <th>2014-08-19</th>\n",
       "      <td>xrp</td>\n",
       "      <td>0.004828</td>\n",
       "      <td>0</td>\n",
       "    </tr>\n",
       "  </tbody>\n",
       "</table>\n",
       "</div>"
      ],
      "text/plain": [
       "           Symbol  PriceUSD  Percent of Change\n",
       "time                                          \n",
       "2014-08-15    xrp  0.005599                  0\n",
       "2014-08-16    xrp  0.005583                  0\n",
       "2014-08-17    xrp  0.008398                  0\n",
       "2014-08-18    xrp  0.004685                  0\n",
       "2014-08-19    xrp  0.004828                  0"
      ]
     },
     "execution_count": 3,
     "metadata": {},
     "output_type": "execute_result"
    }
   ],
   "source": [
    "# Filter the dataset for only Ripple data, with symbol \"Xrp\"\n",
    "ripple = df.loc[df[\"Symbol\"] == \"xrp\"]\n",
    "ripple.head()"
   ]
  },
  {
   "cell_type": "code",
   "execution_count": 4,
   "id": "7bb922c4",
   "metadata": {},
   "outputs": [
    {
     "data": {
      "text/plain": [
       "Symbol               3121\n",
       "PriceUSD             3121\n",
       "Percent of Change    3121\n",
       "dtype: int64"
      ]
     },
     "execution_count": 4,
     "metadata": {},
     "output_type": "execute_result"
    }
   ],
   "source": [
    "# Check how many data points we are working with\n",
    "ripple.count()"
   ]
  },
  {
   "cell_type": "code",
   "execution_count": 5,
   "id": "1f2aba9f",
   "metadata": {},
   "outputs": [
    {
     "data": {
      "text/html": [
       "<div>\n",
       "<style scoped>\n",
       "    .dataframe tbody tr th:only-of-type {\n",
       "        vertical-align: middle;\n",
       "    }\n",
       "\n",
       "    .dataframe tbody tr th {\n",
       "        vertical-align: top;\n",
       "    }\n",
       "\n",
       "    .dataframe thead th {\n",
       "        text-align: right;\n",
       "    }\n",
       "</style>\n",
       "<table border=\"1\" class=\"dataframe\">\n",
       "  <thead>\n",
       "    <tr style=\"text-align: right;\">\n",
       "      <th></th>\n",
       "      <th>PriceUSD</th>\n",
       "    </tr>\n",
       "    <tr>\n",
       "      <th>time</th>\n",
       "      <th></th>\n",
       "    </tr>\n",
       "  </thead>\n",
       "  <tbody>\n",
       "    <tr>\n",
       "      <th>2014-08-15</th>\n",
       "      <td>0.005599</td>\n",
       "    </tr>\n",
       "    <tr>\n",
       "      <th>2014-08-16</th>\n",
       "      <td>0.005583</td>\n",
       "    </tr>\n",
       "    <tr>\n",
       "      <th>2014-08-17</th>\n",
       "      <td>0.008398</td>\n",
       "    </tr>\n",
       "    <tr>\n",
       "      <th>2014-08-18</th>\n",
       "      <td>0.004685</td>\n",
       "    </tr>\n",
       "    <tr>\n",
       "      <th>2014-08-19</th>\n",
       "      <td>0.004828</td>\n",
       "    </tr>\n",
       "    <tr>\n",
       "      <th>...</th>\n",
       "      <td>...</td>\n",
       "    </tr>\n",
       "    <tr>\n",
       "      <th>2023-02-25</th>\n",
       "      <td>0.377417</td>\n",
       "    </tr>\n",
       "    <tr>\n",
       "      <th>2023-02-26</th>\n",
       "      <td>0.377466</td>\n",
       "    </tr>\n",
       "    <tr>\n",
       "      <th>2023-02-27</th>\n",
       "      <td>0.379113</td>\n",
       "    </tr>\n",
       "    <tr>\n",
       "      <th>2023-02-28</th>\n",
       "      <td>0.377556</td>\n",
       "    </tr>\n",
       "    <tr>\n",
       "      <th>2023-03-01</th>\n",
       "      <td>0.383784</td>\n",
       "    </tr>\n",
       "  </tbody>\n",
       "</table>\n",
       "<p>3121 rows × 1 columns</p>\n",
       "</div>"
      ],
      "text/plain": [
       "            PriceUSD\n",
       "time                \n",
       "2014-08-15  0.005599\n",
       "2014-08-16  0.005583\n",
       "2014-08-17  0.008398\n",
       "2014-08-18  0.004685\n",
       "2014-08-19  0.004828\n",
       "...              ...\n",
       "2023-02-25  0.377417\n",
       "2023-02-26  0.377466\n",
       "2023-02-27  0.379113\n",
       "2023-02-28  0.377556\n",
       "2023-03-01  0.383784\n",
       "\n",
       "[3121 rows x 1 columns]"
      ]
     },
     "execution_count": 5,
     "metadata": {},
     "output_type": "execute_result"
    }
   ],
   "source": [
    "# Drop unnecessary columns, focusing on the main feature which is Price [USD]\n",
    "ripple_df = ripple.drop([\"Symbol\", \"Percent of Change\"], axis=1)\n",
    "ripple_df"
   ]
  },
  {
   "cell_type": "code",
   "execution_count": 6,
   "id": "77dbfb09",
   "metadata": {},
   "outputs": [],
   "source": [
    "# Function to prepare data for training and testing\n",
    "def prepare_data(data, sequence_length):\n",
    "    # Normalize data using MinMaxScaler\n",
    "    scaler = MinMaxScaler(feature_range=(0, 1))\n",
    "    scaled_data = scaler.fit_transform(data)\n",
    "\n",
    "    # Split data into training and testing sets\n",
    "    training_data = scaled_data[:int(0.8*len(data)), :]\n",
    "    testing_data = scaled_data[int(0.8*len(data)):, :]\n",
    "\n",
    "    # Create sequences of data\n",
    "    X_train, y_train = create_sequences(training_data, sequence_length)\n",
    "    X_test, y_test = create_sequences(testing_data, sequence_length)\n",
    "    # Return data and scaler object\n",
    "    return X_train, y_train, X_test, y_test, scaler"
   ]
  },
  {
   "cell_type": "code",
   "execution_count": 7,
   "id": "89049d34",
   "metadata": {},
   "outputs": [],
   "source": [
    "# Function to create sliding window of sequences that will be used when splitting into training and testing sets\n",
    "def create_sequences(data, sequence_length):\n",
    "    X = []\n",
    "    y = []\n",
    "    # Loop through data with sequence_length steps at a time\n",
    "    for i in range(len(data)-sequence_length-1):\n",
    "        # Append a sequence of length sequence_length to X\n",
    "        X.append(data[i:(i+sequence_length), :])\n",
    "        # Append the next value in the sequence to y\n",
    "        y.append(data[i+sequence_length, 0])\n",
    "    # Convert X and y to numpy arrays\n",
    "    X = np.array(X)\n",
    "    y = np.array(y)\n",
    "    return X, y"
   ]
  },
  {
   "cell_type": "code",
   "execution_count": 8,
   "id": "1fd46ad7",
   "metadata": {},
   "outputs": [],
   "source": [
    "# Function that builds our LSTM model, with the requirement of the input shape to be three dimensional.\n",
    "def build_model(input_shape):\n",
    "    model = Sequential()\n",
    "    model.add(LSTM(50, return_sequences=True, input_shape=input_shape))\n",
    "    model.add(LSTM(50, return_sequences=True))\n",
    "    model.add(LSTM(50))\n",
    "    model.add(Dense(1))\n",
    "    model.compile(loss='mean_squared_error', optimizer='adam')\n",
    "    return model"
   ]
  },
  {
   "cell_type": "code",
   "execution_count": 9,
   "id": "57a7d044",
   "metadata": {},
   "outputs": [],
   "source": [
    "# Prepare data\n",
    "sequence_length = 30\n",
    "X_train, y_train, X_test, y_test, scaler = prepare_data(ripple_df.values, sequence_length)"
   ]
  },
  {
   "cell_type": "code",
   "execution_count": 10,
   "id": "55086689",
   "metadata": {},
   "outputs": [
    {
     "name": "stdout",
     "output_type": "stream",
     "text": [
      " X (Training) Shape: (2465, 30, 1)\n"
     ]
    }
   ],
   "source": [
    "# Confirm if the input training set is three dimensional\n",
    "print(f' X (Training) Shape: {X_train.shape}')"
   ]
  },
  {
   "cell_type": "code",
   "execution_count": 11,
   "id": "e1fee775",
   "metadata": {},
   "outputs": [],
   "source": [
    "# Build model\n",
    "input_shape = (X_train.shape[1], X_train.shape[2])\n",
    "model = build_model(input_shape)"
   ]
  },
  {
   "cell_type": "code",
   "execution_count": null,
   "id": "bbd20c6d",
   "metadata": {},
   "outputs": [
    {
     "name": "stdout",
     "output_type": "stream",
     "text": [
      "Epoch 1/50\n",
      "39/39 [==============================] - 94s 268ms/step - loss: 0.0045 - val_loss: 0.0015\n",
      "Epoch 2/50\n",
      "39/39 [==============================] - 5s 132ms/step - loss: 0.0016 - val_loss: 7.2234e-04\n",
      "Epoch 3/50\n",
      "39/39 [==============================] - 6s 153ms/step - loss: 0.0012 - val_loss: 7.5194e-04\n",
      "Epoch 4/50\n",
      "39/39 [==============================] - 5s 135ms/step - loss: 0.0010 - val_loss: 5.0369e-04\n",
      "Epoch 5/50\n",
      "39/39 [==============================] - 5s 137ms/step - loss: 9.8537e-04 - val_loss: 5.6388e-04\n",
      "Epoch 6/50\n",
      "39/39 [==============================] - 5s 125ms/step - loss: 7.6930e-04 - val_loss: 4.8590e-04\n",
      "Epoch 7/50\n",
      "39/39 [==============================] - 5s 132ms/step - loss: 7.7114e-04 - val_loss: 4.1819e-04\n",
      "Epoch 8/50\n",
      "39/39 [==============================] - 5s 125ms/step - loss: 6.5459e-04 - val_loss: 3.9770e-04\n",
      "Epoch 9/50\n",
      "39/39 [==============================] - 5s 119ms/step - loss: 5.1461e-04 - val_loss: 3.5790e-04\n",
      "Epoch 10/50\n",
      "39/39 [==============================] - 5s 121ms/step - loss: 5.1693e-04 - val_loss: 4.8352e-04\n",
      "Epoch 11/50\n",
      "39/39 [==============================] - 5s 122ms/step - loss: 4.9527e-04 - val_loss: 3.6694e-04\n",
      "Epoch 12/50\n",
      "39/39 [==============================] - 6s 146ms/step - loss: 5.1485e-04 - val_loss: 4.1469e-04\n",
      "Epoch 13/50\n",
      "39/39 [==============================] - 5s 132ms/step - loss: 4.6505e-04 - val_loss: 3.2272e-04\n",
      "Epoch 14/50\n",
      "39/39 [==============================] - 5s 132ms/step - loss: 5.5077e-04 - val_loss: 3.0385e-04\n",
      "Epoch 15/50\n",
      "39/39 [==============================] - 4s 111ms/step - loss: 4.9985e-04 - val_loss: 6.0798e-04\n",
      "Epoch 16/50\n",
      "39/39 [==============================] - 5s 121ms/step - loss: 4.4496e-04 - val_loss: 3.4189e-04\n",
      "Epoch 17/50\n",
      "39/39 [==============================] - 5s 123ms/step - loss: 4.5692e-04 - val_loss: 3.0990e-04\n",
      "Epoch 18/50\n",
      "39/39 [==============================] - 5s 139ms/step - loss: 4.2974e-04 - val_loss: 2.9622e-04\n",
      "Epoch 19/50\n",
      "39/39 [==============================] - 6s 144ms/step - loss: 4.3502e-04 - val_loss: 3.3391e-04\n",
      "Epoch 20/50\n",
      "39/39 [==============================] - 6s 161ms/step - loss: 4.5904e-04 - val_loss: 3.0673e-04\n",
      "Epoch 21/50\n",
      "39/39 [==============================] - 6s 150ms/step - loss: 4.1058e-04 - val_loss: 4.2838e-04\n",
      "Epoch 22/50\n",
      "39/39 [==============================] - 6s 151ms/step - loss: 4.1203e-04 - val_loss: 4.2118e-04\n",
      "Epoch 23/50\n",
      "39/39 [==============================] - 5s 118ms/step - loss: 4.2316e-04 - val_loss: 4.5497e-04\n",
      "Epoch 24/50\n",
      "39/39 [==============================] - 5s 116ms/step - loss: 4.0817e-04 - val_loss: 2.5115e-04\n",
      "Epoch 25/50\n",
      "39/39 [==============================] - 4s 113ms/step - loss: 3.9520e-04 - val_loss: 2.4913e-04\n",
      "Epoch 26/50\n",
      "39/39 [==============================] - 7s 169ms/step - loss: 4.0812e-04 - val_loss: 3.1453e-04\n",
      "Epoch 27/50\n",
      "39/39 [==============================] - 5s 134ms/step - loss: 3.7029e-04 - val_loss: 2.9354e-04\n",
      "Epoch 28/50\n",
      "39/39 [==============================] - 5s 130ms/step - loss: 3.6745e-04 - val_loss: 2.4504e-04\n",
      "Epoch 29/50\n",
      "39/39 [==============================] - ETA: 0s - loss: 3.7276e-04"
     ]
    }
   ],
   "source": [
    "# Train/Fit LSTM model to training data\n",
    "history = model.fit(X_train, y_train, epochs=50, batch_size=64, validation_data=(X_test, y_test), verbose=1)"
   ]
  },
  {
   "cell_type": "code",
   "execution_count": null,
   "id": "3978f36c",
   "metadata": {},
   "outputs": [],
   "source": [
    "# Make predictions on testing data\n",
    "predictions = model.predict(X_test)\n",
    "\n",
    "# Denormalize predictions and actual values\n",
    "y_pred_inv = scaler.inverse_transform(predictions)\n",
    "y_test_inv = scaler.inverse_transform(y_test.reshape(-1, 1))\n",
    "\n",
    "# Plot actual vs predicted prices\n",
    "plt.figure(figsize=(12, 8))\n",
    "plt.plot(y_test_inv, label='Actual')\n",
    "plt.plot(y_pred_inv, label='Predicted')\n",
    "plt.xlabel('Time [Days]')\n",
    "plt.ylabel('Price [USD]')\n",
    "plt.title('Actual vs. Predicted Ripple Prices')\n",
    "plt.legend()\n",
    "plt.show()\n"
   ]
  },
  {
   "cell_type": "code",
   "execution_count": null,
   "id": "47bb46cb",
   "metadata": {},
   "outputs": [],
   "source": [
    "# Plot actual vs predicted prices with a rolling window\n",
    "window_size = 50\n",
    "rolling_y_test = pd.Series(y_test_inv.reshape(-1)).rolling(window_size).mean()[window_size-1:].values\n",
    "rolling_y_pred = pd.Series(y_pred_inv.reshape(-1)).rolling(window_size).mean()[window_size-1:].values\n",
    "\n",
    "plt.figure(figsize=(12, 8))\n",
    "plt.plot(rolling_y_test, label='Actual')\n",
    "plt.plot(rolling_y_pred, label='Predicted')\n",
    "plt.title('Actual vs. Predicted Rolling Mean (window size = {})'.format(window_size))\n",
    "plt.xlabel('Time [Days]')\n",
    "plt.ylabel('Price [USD]')\n",
    "plt.legend()\n",
    "plt.show()\n"
   ]
  },
  {
   "cell_type": "code",
   "execution_count": null,
   "id": "6c3bf65c",
   "metadata": {},
   "outputs": [],
   "source": [
    "# Assume `y_test` is the actual Ripple prices and `predictions` is the predicted prices\n",
    "# Convert them into pandas DataFrame for easier manipulation\n",
    "y_test_df = pd.DataFrame(y_test, columns=['actual'])\n",
    "predictions_df = pd.DataFrame(predictions, columns=['predicted'])\n",
    "\n",
    "# Concatenate the two DataFrames into one\n",
    "results_df = pd.concat([y_test_df, predictions_df], axis=1)\n",
    "\n",
    "# Set the window size for the rolling window\n",
    "window_size = 50\n",
    "\n",
    "# Calculate the rolling mean for both the actual and predicted prices\n",
    "results_df['actual_mean'] = results_df['actual'].rolling(window_size).mean()\n",
    "results_df['predicted_mean'] = results_df['predicted'].rolling(window_size).mean()\n",
    "\n",
    "# Plot the actual and predicted prices with the rolling mean\n",
    "plt.plot(results_df['actual'], label='Actual prices')\n",
    "plt.plot(results_df['predicted'], label='Predicted prices')\n",
    "plt.plot(results_df['actual_mean'], label='Rolling actual mean')\n",
    "plt.plot(results_df['predicted_mean'], label='Rolling predicted mean')\n",
    "plt.legend()\n",
    "plt.title('Actual vs. Predicted Ripple prices with rolling mean (window size = {})'.format(window_size))\n",
    "plt.xlabel('Time [Days]')\n",
    "plt.ylabel('Price [USD]')\n",
    "plt.show()\n"
   ]
  },
  {
   "cell_type": "code",
   "execution_count": null,
   "id": "bc019bfd",
   "metadata": {},
   "outputs": [],
   "source": [
    "# Plot the training and validation loss over time/epochs\n",
    "plt.plot(history.history['loss'], label='Training Loss')\n",
    "plt.plot(history.history['val_loss'], label='Validation Loss')\n",
    "plt.title('Training and Validation Loss')\n",
    "plt.xlabel('Epoch')\n",
    "plt.ylabel('Loss')\n",
    "plt.legend()\n",
    "plt.show()\n",
    "\n",
    "# Plot a line chart of the training and validation MSE loss over the training epochs."
   ]
  },
  {
   "cell_type": "code",
   "execution_count": null,
   "id": "2db5961f",
   "metadata": {},
   "outputs": [],
   "source": [
    "# Plot of the predicted values against the true values, which can help you visualize how well the model is able to predict the crypto prices.\n",
    "plt.scatter(y_test, predictions)\n",
    "plt.title('Predicted vs. true values')\n",
    "plt.xlabel('True values')\n",
    "plt.ylabel('Predicted values')\n",
    "plt.show()"
   ]
  },
  {
   "cell_type": "code",
   "execution_count": null,
   "id": "bf968cdd",
   "metadata": {},
   "outputs": [],
   "source": [
    "# Calculate prediction errors\n",
    "errors = y_pred_inv - y_test_inv\n",
    "\n",
    "# Plot histogram of errors\n",
    "plt.hist(errors, bins=50)\n",
    "plt.title('Prediction Error Histogram')\n",
    "plt.xlabel('Error')\n",
    "plt.ylabel('Frequency')\n",
    "plt.show()"
   ]
  },
  {
   "cell_type": "code",
   "execution_count": null,
   "id": "5a638b78",
   "metadata": {},
   "outputs": [],
   "source": [
    "# Calculate MSE and RMSE\n",
    "from sklearn.metrics import mean_squared_error, mean_absolute_error, r2_score\n",
    "\n",
    "# Compute mean absolute error\n",
    "mae = mean_absolute_error(y_test, predictions)\n",
    "\n",
    "# Compute coefficient of determination\n",
    "r2 = r2_score(y_test, predictions)\n",
    "\n",
    "# Compute mean squared error using evaluate method\n",
    "mse_keras = model.evaluate(X_test, y_test)\n",
    "\n",
    "# Calculate RMSE from MSE\n",
    "rmse_keras = np.sqrt(mse_keras)\n",
    "\n",
    "print('MSE (Keras):', mse_keras)\n",
    "print('RMSE (Keras):', rmse_keras)\n",
    "print('MAE:', mae)\n",
    "print('R²:', r2)"
   ]
  },
  {
   "cell_type": "code",
   "execution_count": null,
   "id": "a563953e",
   "metadata": {},
   "outputs": [],
   "source": [
    "# Save previous predictions\n",
    "previous_predictions_df = predictions_df.copy()\n",
    "\n",
    "# Get last n rows of ripple_df and set index of previous_predictions_df to match\n",
    "n = len(previous_predictions_df)\n",
    "previous_predictions_df.index = ripple_df.iloc[-n:].index"
   ]
  },
  {
   "cell_type": "code",
   "execution_count": null,
   "id": "7983450e",
   "metadata": {},
   "outputs": [],
   "source": [
    "# Use the model to predict future prices\n",
    "# First, get the last sequence of data from the training set\n",
    "last_sequence = X_train[-1,:,:]\n",
    "# Generate the future date range\n",
    "future_dates = pd.date_range(start=ripple_df.index[-1], periods=60, freq='D')\n",
    "# Create an empty array to hold the predicted prices\n",
    "predicted_prices = np.zeros((60, 1))\n",
    "# Iterate over the future date range\n",
    "for i, date in enumerate(future_dates):\n",
    "    # Predict the price for the next day using the last sequence of data\n",
    "    predicted_price = model.predict(last_sequence.reshape(1, last_sequence.shape[0], last_sequence.shape[1]))\n",
    "    # Add the predicted price to the array\n",
    "    predicted_prices[i, 0] = predicted_price\n",
    "    # Update the last sequence of data with the predicted price\n",
    "    last_sequence = np.vstack((last_sequence[1:], predicted_price))\n",
    "\n",
    "# Invert the scaling of the predicted prices\n",
    "predicted_prices_inv = scaler.inverse_transform(predicted_prices)\n",
    "\n",
    "# Create a dataframe with the predicted prices and the corresponding dates\n",
    "predictions_df2 = pd.DataFrame(predicted_prices_inv, index=future_dates, columns=['predicted'])"
   ]
  },
  {
   "cell_type": "code",
   "execution_count": null,
   "id": "3b1540a2",
   "metadata": {},
   "outputs": [],
   "source": [
    "# Plot actual vs predicted values\n",
    "plt.figure(figsize=(10, 6))\n",
    "plt.plot(ripple_df.index, ripple_df.values, label='Actual')\n",
    "plt.plot(previous_predictions_df.index, previous_predictions_df['predicted'], label='Predicted (Test Data)')\n",
    "plt.plot(predictions_df2.index, predictions_df2['predicted'], label='Predicted (Future Data)')\n",
    "plt.legend()\n",
    "plt.title('Ripple Price Prediction')\n",
    "plt.xlabel('Date')\n",
    "plt.ylabel('Price [USD]')\n",
    "plt.show()"
   ]
  },
  {
   "cell_type": "code",
   "execution_count": null,
   "id": "ed487272",
   "metadata": {},
   "outputs": [],
   "source": [
    "# Plot actual vs predicted values\n",
    "plt.figure(figsize=(10, 6))\n",
    "plt.plot(predictions_df2.index, predictions_df2['predicted'], color=\"green\", label='Predicted (Future Data)')\n",
    "plt.legend()\n",
    "plt.title('Ripple Future Price Prediction [60 Days]')\n",
    "plt.xlabel('Date')\n",
    "plt.ylabel('Price [USD]')\n",
    "plt.xticks(rotation=45)\n",
    "plt.show()"
   ]
  },
  {
   "cell_type": "code",
   "execution_count": null,
   "id": "2f0a1d86",
   "metadata": {},
   "outputs": [],
   "source": [
    "previous_predictions_df"
   ]
  },
  {
   "cell_type": "code",
   "execution_count": null,
   "id": "9b1cf2f8",
   "metadata": {},
   "outputs": [],
   "source": [
    "predictions_df2"
   ]
  },
  {
   "cell_type": "code",
   "execution_count": null,
   "id": "791190dd",
   "metadata": {},
   "outputs": [],
   "source": [
    "predictions_df2['predicted'] = predictions_df2['predicted'].round(2)\n",
    "predictions_df2\n"
   ]
  },
  {
   "cell_type": "code",
   "execution_count": null,
   "id": "e536c90d",
   "metadata": {},
   "outputs": [],
   "source": [
    "# Saving prediction data\n",
    "file_path = \"LSTMXRP.csv\"\n",
    "predictions_df2.to_csv(file_path, index=True)"
   ]
  }
 ],
 "metadata": {
  "kernelspec": {
   "display_name": "mlenv",
   "language": "python",
   "name": "mlenv"
  },
  "language_info": {
   "codemirror_mode": {
    "name": "ipython",
    "version": 3
   },
   "file_extension": ".py",
   "mimetype": "text/x-python",
   "name": "python",
   "nbconvert_exporter": "python",
   "pygments_lexer": "ipython3",
   "version": "3.7.13"
  }
 },
 "nbformat": 4,
 "nbformat_minor": 5
}
