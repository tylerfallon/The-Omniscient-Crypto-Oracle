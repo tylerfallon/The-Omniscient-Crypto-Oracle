{
 "cells": [
  {
   "cell_type": "code",
   "execution_count": null,
   "id": "a3bb13bb",
   "metadata": {},
   "outputs": [],
   "source": [
    "# Import necessary libraries\n",
    "import pandas as pd\n",
    "import numpy as np\n",
    "import matplotlib.pyplot as plt\n",
    "from keras.layers import Activation, Dense, Dropout, LSTM\n",
    "from keras.models import Sequential\n",
    "import tensorflow as tf\n",
    "from sklearn.preprocessing import MinMaxScaler"
   ]
  },
  {
   "cell_type": "code",
   "execution_count": null,
   "id": "ee6789e8",
   "metadata": {},
   "outputs": [],
   "source": [
    "# Load data into a DataFrame\n",
    "df = pd.read_csv(\"../Aaron/working_dataset.csv\").set_index(\"time\")\n",
    "df.index = pd.to_datetime(df.index)\n",
    "df.head()"
   ]
  },
  {
   "cell_type": "code",
   "execution_count": null,
   "id": "f2148556",
   "metadata": {},
   "outputs": [],
   "source": [
    "# Filter the dataset for only Ethereum data, with symbol \"Eth\"\n",
    "ethereum = df.loc[df[\"Symbol\"] == \"eth\"]\n",
    "ethereum.head()"
   ]
  },
  {
   "cell_type": "code",
   "execution_count": null,
   "id": "7bb922c4",
   "metadata": {},
   "outputs": [],
   "source": [
    "# Check how many data points we are working with\n",
    "ethereum.count()"
   ]
  },
  {
   "cell_type": "code",
   "execution_count": null,
   "id": "1f2aba9f",
   "metadata": {},
   "outputs": [],
   "source": [
    "# Drop unnecessary columns, focusing on the main feature which is Price [USD]\n",
    "ethereum_df = ethereum.drop([\"Symbol\", \"Percent of Change\"], axis=1)\n",
    "ethereum_df"
   ]
  },
  {
   "cell_type": "code",
   "execution_count": null,
   "id": "77dbfb09",
   "metadata": {},
   "outputs": [],
   "source": [
    "# Function to prepare data for training and testing\n",
    "def prepare_data(data, sequence_length):\n",
    "    # Normalize data using MinMaxScaler\n",
    "    scaler = MinMaxScaler(feature_range=(0, 1))\n",
    "    scaled_data = scaler.fit_transform(data)\n",
    "\n",
    "    # Split data into training and testing sets\n",
    "    training_data = scaled_data[:int(0.8*len(data)), :]\n",
    "    testing_data = scaled_data[int(0.8*len(data)):, :]\n",
    "\n",
    "    # Create sequences of data\n",
    "    X_train, y_train = create_sequences(training_data, sequence_length)\n",
    "    X_test, y_test = create_sequences(testing_data, sequence_length)\n",
    "    # Return data and scaler object\n",
    "    return X_train, y_train, X_test, y_test, scaler\n"
   ]
  },
  {
   "cell_type": "code",
   "execution_count": null,
   "id": "89049d34",
   "metadata": {},
   "outputs": [],
   "source": [
    "# Function to create sliding window of sequences that will be used when splitting into training and testing sets\n",
    "def create_sequences(data, sequence_length):\n",
    "    X = []\n",
    "    y = []\n",
    "    # Loop through data with sequence_length steps at a time\n",
    "    for i in range(len(data)-sequence_length-1):\n",
    "        # Append a sequence of length sequence_length to X\n",
    "        X.append(data[i:(i+sequence_length), :])\n",
    "        # Append the next value in the sequence to y\n",
    "        y.append(data[i+sequence_length, 0])\n",
    "    # Convert X and y to numpy arrays\n",
    "    X = np.array(X)\n",
    "    y = np.array(y)\n",
    "    return X, y"
   ]
  },
  {
   "cell_type": "code",
   "execution_count": null,
   "id": "1fd46ad7",
   "metadata": {},
   "outputs": [],
   "source": [
    "# Function that builds our LSTM model, with the requirement of the input shape to be three dimensional.\n",
    "def build_model(input_shape):\n",
    "    model = Sequential()\n",
    "    model.add(LSTM(50, return_sequences=True, input_shape=input_shape))\n",
    "    model.add(LSTM(50, return_sequences=True))\n",
    "    model.add(LSTM(50))\n",
    "    model.add(Dense(1))\n",
    "    model.compile(loss='mean_squared_error', optimizer='adam')\n",
    "    return model"
   ]
  },
  {
   "cell_type": "code",
   "execution_count": null,
   "id": "57a7d044",
   "metadata": {},
   "outputs": [],
   "source": [
    "# Prepare data\n",
    "sequence_length = 30\n",
    "X_train, y_train, X_test, y_test, scaler = prepare_data(ethereum_df.values, sequence_length)"
   ]
  },
  {
   "cell_type": "code",
   "execution_count": null,
   "id": "55086689",
   "metadata": {},
   "outputs": [],
   "source": [
    "# Confirm if the input training set is three dimensional\n",
    "print(f' X (Training) Shape: {X_train.shape}')"
   ]
  },
  {
   "cell_type": "code",
   "execution_count": null,
   "id": "e1fee775",
   "metadata": {},
   "outputs": [],
   "source": [
    "# Build model\n",
    "input_shape = (X_train.shape[1], X_train.shape[2])\n",
    "model = build_model(input_shape)"
   ]
  },
  {
   "cell_type": "code",
   "execution_count": null,
   "id": "bbd20c6d",
   "metadata": {},
   "outputs": [],
   "source": [
    "# Train/Fit LSTM model to training data\n",
    "history = model.fit(X_train, y_train, epochs=50, batch_size=64, validation_data=(X_test, y_test), verbose=1)"
   ]
  },
  {
   "cell_type": "code",
   "execution_count": null,
   "id": "3978f36c",
   "metadata": {},
   "outputs": [],
   "source": [
    "# Make predictions on testing data\n",
    "predictions = model.predict(X_test)\n",
    "\n",
    "# Denormalize predictions and actual values\n",
    "y_pred_inv = scaler.inverse_transform(predictions)\n",
    "y_test_inv = scaler.inverse_transform(y_test.reshape(-1, 1))\n",
    "\n",
    "# Plot actual vs predicted prices\n",
    "plt.figure(figsize=(12, 8))\n",
    "plt.plot(y_test_inv, label='Actual')\n",
    "plt.plot(y_pred_inv, label='Predicted')\n",
    "plt.xlabel('Time [Days]')\n",
    "plt.ylabel('Price [USD]')\n",
    "plt.title('Actual vs. Predicted Ethereum Prices')\n",
    "plt.legend()\n",
    "plt.show()\n"
   ]
  },
  {
   "cell_type": "code",
   "execution_count": null,
   "id": "47bb46cb",
   "metadata": {},
   "outputs": [],
   "source": [
    "# Plot actual vs predicted prices with a rolling window\n",
    "window_size = 50\n",
    "rolling_y_test = pd.Series(y_test_inv.reshape(-1)).rolling(window_size).mean()[window_size-1:].values\n",
    "rolling_y_pred = pd.Series(y_pred_inv.reshape(-1)).rolling(window_size).mean()[window_size-1:].values\n",
    "\n",
    "plt.figure(figsize=(12, 8))\n",
    "plt.plot(rolling_y_test, label='Actual')\n",
    "plt.plot(rolling_y_pred, label='Predicted')\n",
    "plt.title('Actual vs. Predicted Rolling Mean (window size = {})'.format(window_size))\n",
    "plt.xlabel('Time [Days]')\n",
    "plt.ylabel('Price [USD]')\n",
    "plt.legend()\n",
    "plt.show()\n"
   ]
  },
  {
   "cell_type": "code",
   "execution_count": null,
   "id": "6c3bf65c",
   "metadata": {},
   "outputs": [],
   "source": [
    "# Assume `y_test` is the actual Ethereum prices and `predictions` is the predicted prices\n",
    "# Convert them into pandas DataFrame for easier manipulation\n",
    "y_test_df = pd.DataFrame(y_test_inv, columns=['actual'])\n",
    "predictions_df = pd.DataFrame(y_pred_inv, columns=['predicted'])\n",
    "\n",
    "# Concatenate the two DataFrames into one\n",
    "results_df = pd.concat([y_test_df, predictions_df], axis=1)\n",
    "\n",
    "# Set the window size for the rolling window\n",
    "window_size = 50\n",
    "\n",
    "# Calculate the rolling mean for both the actual and predicted prices\n",
    "results_df['actual_mean'] = results_df['actual'].rolling(window_size).mean()\n",
    "results_df['predicted_mean'] = results_df['predicted'].rolling(window_size).mean()\n",
    "\n",
    "# Plot the actual and predicted prices with the rolling mean\n",
    "plt.plot(results_df['actual'], label='Actual prices')\n",
    "plt.plot(results_df['predicted'], label='Predicted prices')\n",
    "plt.plot(results_df['actual_mean'], label='Rolling actual mean')\n",
    "plt.plot(results_df['predicted_mean'], label='Rolling predicted mean')\n",
    "plt.legend()\n",
    "plt.title('Actual vs. Predicted Ethereum prices with rolling mean (window size = {})'.format(window_size))\n",
    "plt.xlabel('Time [Days]')\n",
    "plt.ylabel('Price [USD]')\n",
    "plt.show()\n"
   ]
  },
  {
   "cell_type": "code",
   "execution_count": null,
   "id": "bc019bfd",
   "metadata": {},
   "outputs": [],
   "source": [
    "# Plot the training and validation loss over time/epochs\n",
    "plt.plot(history.history['loss'], label='Training Loss')\n",
    "plt.plot(history.history['val_loss'], label='Validation Loss')\n",
    "plt.title('Training and Validation Loss')\n",
    "plt.xlabel('Epoch')\n",
    "plt.ylabel('Loss')\n",
    "plt.legend()\n",
    "plt.show()\n",
    "\n",
    "# Plot a line chart of the training and validation MSE loss over the training epochs."
   ]
  },
  {
   "cell_type": "code",
   "execution_count": null,
   "id": "2db5961f",
   "metadata": {},
   "outputs": [],
   "source": [
    "# Plot of the predicted values against the true values, which can help you visualize how well the model is able to predict the crypto prices.\n",
    "plt.scatter(y_test, predictions)\n",
    "plt.title('Predicted vs. true values')\n",
    "plt.xlabel('True values')\n",
    "plt.ylabel('Predicted values')\n",
    "plt.show()"
   ]
  },
  {
   "cell_type": "code",
   "execution_count": null,
   "id": "bf968cdd",
   "metadata": {},
   "outputs": [],
   "source": [
    "# Calculate prediction errors\n",
    "errors = y_pred_inv - y_test_inv\n",
    "\n",
    "# Plot histogram of errors\n",
    "plt.hist(errors, bins=50)\n",
    "plt.title('Prediction Error Histogram')\n",
    "plt.xlabel('Error')\n",
    "plt.ylabel('Frequency')\n",
    "plt.show()"
   ]
  },
  {
   "cell_type": "code",
   "execution_count": null,
   "id": "5a638b78",
   "metadata": {},
   "outputs": [],
   "source": [
    "# Calculate MSE and RMSE\n",
    "from sklearn.metrics import mean_squared_error, mean_absolute_error, r2_score\n",
    "\n",
    "# Compute mean absolute error\n",
    "mae = mean_absolute_error(y_test, predictions)\n",
    "\n",
    "# Compute coefficient of determination\n",
    "r2 = r2_score(y_test, predictions)\n",
    "\n",
    "# Compute mean squared error using evaluate method\n",
    "mse_keras = model.evaluate(X_test, y_test)\n",
    "\n",
    "# Calculate RMSE from MSE\n",
    "rmse_keras = np.sqrt(mse_keras)\n",
    "\n",
    "print('MSE (Keras):', mse_keras)\n",
    "print('RMSE (Keras):', rmse_keras)\n",
    "print('MAE:', mae)\n",
    "print('R²:', r2)"
   ]
  },
  {
   "cell_type": "code",
   "execution_count": null,
   "id": "a563953e",
   "metadata": {},
   "outputs": [],
   "source": [
    "# Save previous predictions\n",
    "previous_predictions_df = predictions_df.copy()\n",
    "\n",
    "# Get last n rows of ethereum_df and set index of previous_predictions_df to match\n",
    "n = len(previous_predictions_df)\n",
    "previous_predictions_df.index = ethereum_df.iloc[-n:].index"
   ]
  },
  {
   "cell_type": "code",
   "execution_count": null,
   "id": "131fad85",
   "metadata": {},
   "outputs": [],
   "source": [
    "# Use the model to predict future prices\n",
    "# First, get the last sequence of data from the training set\n",
    "last_sequence = X_train[-1,:,:]\n",
    "# Generate the future date range\n",
    "future_dates = pd.date_range(start=ethereum_df.index[-1], periods=60, freq='D')\n",
    "# Create an empty array to hold the predicted prices\n",
    "predicted_prices = np.zeros((60, 1))\n",
    "# Iterate over the future date range\n",
    "for i, date in enumerate(future_dates):\n",
    "    # Predict the price for the next day using the last sequence of data\n",
    "    predicted_price = model.predict(last_sequence.reshape(1, last_sequence.shape[0], last_sequence.shape[1]))\n",
    "    # Add the predicted price to the array\n",
    "    predicted_prices[i, 0] = predicted_price\n",
    "    # Update the last sequence of data with the predicted price\n",
    "    last_sequence = np.vstack((last_sequence[1:], predicted_price))\n",
    "\n",
    "# Invert the scaling of the predicted prices\n",
    "predicted_prices_inv = scaler.inverse_transform(predicted_prices)\n",
    "\n",
    "# Create a dataframe with the predicted prices and the corresponding dates\n",
    "predictions_df2 = pd.DataFrame(predicted_prices_inv, index=future_dates, columns=['predicted'])"
   ]
  },
  {
   "cell_type": "code",
   "execution_count": null,
   "id": "859d4260",
   "metadata": {},
   "outputs": [],
   "source": [
    "# Plot actual vs predicted values\n",
    "plt.figure(figsize=(10, 6))\n",
    "plt.plot(ethereum_df.index, ethereum_df.values, label='Actual')\n",
    "plt.plot(previous_predictions_df.index, previous_predictions_df['predicted'], label='Predicted (Test Data)')\n",
    "plt.plot(predictions_df2.index, predictions_df2['predicted'], label='Predicted (Future Data)')\n",
    "plt.legend()\n",
    "plt.title('Ethereum Price Prediction')\n",
    "plt.xlabel('Date')\n",
    "plt.ylabel('Price [USD]')\n",
    "plt.show()"
   ]
  },
  {
   "cell_type": "code",
   "execution_count": null,
   "id": "521b0ad5",
   "metadata": {},
   "outputs": [],
   "source": [
    "# Plot actual vs predicted values\n",
    "plt.figure(figsize=(10, 6))\n",
    "plt.plot(predictions_df2.index, predictions_df2['predicted'], color=\"green\", label='Predicted (Future Data)')\n",
    "plt.legend()\n",
    "plt.title('Ethereum Future Price Prediction [60 Days]')\n",
    "plt.xlabel('Date')\n",
    "plt.ylabel('Price [USD]')\n",
    "plt.xticks(rotation=45)\n",
    "plt.show()"
   ]
  },
  {
   "cell_type": "code",
   "execution_count": null,
   "id": "19023dfe",
   "metadata": {},
   "outputs": [],
   "source": [
    "previous_predictions_df"
   ]
  },
  {
   "cell_type": "code",
   "execution_count": null,
   "id": "d3e35632",
   "metadata": {},
   "outputs": [],
   "source": [
    "predictions_df2"
   ]
  },
  {
   "cell_type": "code",
   "execution_count": null,
   "id": "251a65df",
   "metadata": {},
   "outputs": [],
   "source": [
    "predictions_df2['predicted'] = predictions_df2['predicted'].round(2)\n",
    "predictions_df2"
   ]
  },
  {
   "cell_type": "code",
   "execution_count": null,
   "id": "4758fa15",
   "metadata": {},
   "outputs": [],
   "source": [
    "# Saving prediction data\n",
    "file_path = \"LSTMETH.csv\"\n",
    "predictions_df2.to_csv(file_path, index=True)"
   ]
  }
 ],
 "metadata": {
  "kernelspec": {
   "display_name": "mlenv",
   "language": "python",
   "name": "mlenv"
  },
  "language_info": {
   "codemirror_mode": {
    "name": "ipython",
    "version": 3
   },
   "file_extension": ".py",
   "mimetype": "text/x-python",
   "name": "python",
   "nbconvert_exporter": "python",
   "pygments_lexer": "ipython3",
   "version": "3.7.13"
  }
 },
 "nbformat": 4,
 "nbformat_minor": 5
}
