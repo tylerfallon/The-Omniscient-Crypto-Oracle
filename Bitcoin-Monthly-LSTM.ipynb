{
 "cells": [
  {
   "cell_type": "code",
   "execution_count": 46,
   "id": "a3bb13bb",
   "metadata": {},
   "outputs": [],
   "source": [
    "import os\n",
    "from pathlib import Path\n",
    "import pandas as pd\n",
    "import numpy as np\n",
    "import matplotlib.pyplot as plt\n",
    "from sklearn import *\n",
    "from keras.layers import Activation, Dense, Dropout, LSTM\n",
    "import tensorflow as tf\n",
    "from tensorflow.keras import Input"
   ]
  },
  {
   "cell_type": "code",
   "execution_count": 47,
   "id": "c693dcc7",
   "metadata": {},
   "outputs": [
    {
     "data": {
      "text/html": [
       "<div>\n",
       "<style scoped>\n",
       "    .dataframe tbody tr th:only-of-type {\n",
       "        vertical-align: middle;\n",
       "    }\n",
       "\n",
       "    .dataframe tbody tr th {\n",
       "        vertical-align: top;\n",
       "    }\n",
       "\n",
       "    .dataframe thead th {\n",
       "        text-align: right;\n",
       "    }\n",
       "</style>\n",
       "<table border=\"1\" class=\"dataframe\">\n",
       "  <thead>\n",
       "    <tr style=\"text-align: right;\">\n",
       "      <th></th>\n",
       "      <th>Price</th>\n",
       "      <th>Open</th>\n",
       "      <th>High</th>\n",
       "      <th>Low</th>\n",
       "      <th>Vol.</th>\n",
       "      <th>Change %</th>\n",
       "    </tr>\n",
       "    <tr>\n",
       "      <th>Date</th>\n",
       "      <th></th>\n",
       "      <th></th>\n",
       "      <th></th>\n",
       "      <th></th>\n",
       "      <th></th>\n",
       "      <th></th>\n",
       "    </tr>\n",
       "  </thead>\n",
       "  <tbody>\n",
       "    <tr>\n",
       "      <th>1-Mar-23</th>\n",
       "      <td>23,619.00</td>\n",
       "      <td>23,130.60</td>\n",
       "      <td>23,914.10</td>\n",
       "      <td>23,025.30</td>\n",
       "      <td>328.18K</td>\n",
       "      <td>2.11%</td>\n",
       "    </tr>\n",
       "    <tr>\n",
       "      <th>28-Feb-23</th>\n",
       "      <td>23,130.50</td>\n",
       "      <td>23,494.00</td>\n",
       "      <td>23,595.00</td>\n",
       "      <td>23,033.80</td>\n",
       "      <td>275.10K</td>\n",
       "      <td>-1.55%</td>\n",
       "    </tr>\n",
       "    <tr>\n",
       "      <th>27-Feb-23</th>\n",
       "      <td>23,494.10</td>\n",
       "      <td>23,558.70</td>\n",
       "      <td>23,876.20</td>\n",
       "      <td>23,166.80</td>\n",
       "      <td>297.65K</td>\n",
       "      <td>-0.27%</td>\n",
       "    </tr>\n",
       "    <tr>\n",
       "      <th>26-Feb-23</th>\n",
       "      <td>23,558.70</td>\n",
       "      <td>23,166.10</td>\n",
       "      <td>23,671.80</td>\n",
       "      <td>23,066.00</td>\n",
       "      <td>209.12K</td>\n",
       "      <td>1.69%</td>\n",
       "    </tr>\n",
       "    <tr>\n",
       "      <th>25-Feb-23</th>\n",
       "      <td>23,166.10</td>\n",
       "      <td>23,191.30</td>\n",
       "      <td>23,215.30</td>\n",
       "      <td>22,777.40</td>\n",
       "      <td>198.35K</td>\n",
       "      <td>-0.11%</td>\n",
       "    </tr>\n",
       "  </tbody>\n",
       "</table>\n",
       "</div>"
      ],
      "text/plain": [
       "               Price       Open       High        Low     Vol. Change %\n",
       "Date                                                                   \n",
       "1-Mar-23   23,619.00  23,130.60  23,914.10  23,025.30  328.18K    2.11%\n",
       "28-Feb-23  23,130.50  23,494.00  23,595.00  23,033.80  275.10K   -1.55%\n",
       "27-Feb-23  23,494.10  23,558.70  23,876.20  23,166.80  297.65K   -0.27%\n",
       "26-Feb-23  23,558.70  23,166.10  23,671.80  23,066.00  209.12K    1.69%\n",
       "25-Feb-23  23,166.10  23,191.30  23,215.30  22,777.40  198.35K   -0.11%"
      ]
     },
     "execution_count": 47,
     "metadata": {},
     "output_type": "execute_result"
    }
   ],
   "source": [
    "bit_df = pd.read_csv(\"./Resources/BitcoinDataDaily.csv\").set_index(\"Date\")\n",
    "bit_df.head()"
   ]
  },
  {
   "cell_type": "code",
   "execution_count": 49,
   "id": "cc637e3c",
   "metadata": {},
   "outputs": [
    {
     "data": {
      "text/html": [
       "<div>\n",
       "<style scoped>\n",
       "    .dataframe tbody tr th:only-of-type {\n",
       "        vertical-align: middle;\n",
       "    }\n",
       "\n",
       "    .dataframe tbody tr th {\n",
       "        vertical-align: top;\n",
       "    }\n",
       "\n",
       "    .dataframe thead th {\n",
       "        text-align: right;\n",
       "    }\n",
       "</style>\n",
       "<table border=\"1\" class=\"dataframe\">\n",
       "  <thead>\n",
       "    <tr style=\"text-align: right;\">\n",
       "      <th></th>\n",
       "      <th>Price</th>\n",
       "    </tr>\n",
       "    <tr>\n",
       "      <th>Date</th>\n",
       "      <th></th>\n",
       "    </tr>\n",
       "  </thead>\n",
       "  <tbody>\n",
       "    <tr>\n",
       "      <th>1-Mar-23</th>\n",
       "      <td>23,619.00</td>\n",
       "    </tr>\n",
       "    <tr>\n",
       "      <th>28-Feb-23</th>\n",
       "      <td>23,130.50</td>\n",
       "    </tr>\n",
       "    <tr>\n",
       "      <th>27-Feb-23</th>\n",
       "      <td>23,494.10</td>\n",
       "    </tr>\n",
       "    <tr>\n",
       "      <th>26-Feb-23</th>\n",
       "      <td>23,558.70</td>\n",
       "    </tr>\n",
       "    <tr>\n",
       "      <th>25-Feb-23</th>\n",
       "      <td>23,166.10</td>\n",
       "    </tr>\n",
       "  </tbody>\n",
       "</table>\n",
       "</div>"
      ],
      "text/plain": [
       "               Price\n",
       "Date                \n",
       "1-Mar-23   23,619.00\n",
       "28-Feb-23  23,130.50\n",
       "27-Feb-23  23,494.10\n",
       "26-Feb-23  23,558.70\n",
       "25-Feb-23  23,166.10"
      ]
     },
     "execution_count": 49,
     "metadata": {},
     "output_type": "execute_result"
    }
   ],
   "source": [
    "bit_df2 = bit_df[[\"Price\"]]\n",
    "bit_df2.head()"
   ]
  },
  {
   "cell_type": "code",
   "execution_count": 50,
   "id": "062d6610",
   "metadata": {},
   "outputs": [
    {
     "data": {
      "text/plain": [
       "Price    object\n",
       "dtype: object"
      ]
     },
     "execution_count": 50,
     "metadata": {},
     "output_type": "execute_result"
    }
   ],
   "source": [
    "bit_df2.dtypes"
   ]
  },
  {
   "cell_type": "code",
   "execution_count": null,
   "id": "7fd6ab91",
   "metadata": {},
   "outputs": [],
   "source": [
    "#bit_df2 = bit_df2.astype(\"float\")"
   ]
  },
  {
   "cell_type": "code",
   "execution_count": 32,
   "id": "0847bcd3",
   "metadata": {},
   "outputs": [
    {
     "data": {
      "application/javascript": [
       "\n",
       "        if (window._pyforest_update_imports_cell) { window._pyforest_update_imports_cell('import sklearn\\nfrom sklearn.model_selection import train_test_split'); }\n",
       "    "
      ],
      "text/plain": [
       "<IPython.core.display.Javascript object>"
      ]
     },
     "metadata": {},
     "output_type": "display_data"
    }
   ],
   "source": [
    "#X = bit_df.copy()\n",
    "#X = X.drop(\"Price\", axis=1)\n",
    "#y = bit_df[\"Price\"].values\n",
    "#X_train, X_test, y_train, y_test = train_test_split(X, y, test_size=0.2, random_state=78)"
   ]
  },
  {
   "cell_type": "code",
   "execution_count": null,
   "id": "fa0d4634",
   "metadata": {},
   "outputs": [],
   "source": [
    "# Create scaler instance\n",
    "#X_scaler = sklearn.preprocessing.MinMaxScaler()\n",
    "\n",
    "# Fit the scaler\n",
    "#X_scaler.fit(X_train)\n",
    "\n",
    "# Scale the data\n",
    "#X_train_scaled = X_scaler.transform(X_train)\n",
    "#X_test_scaled = X_scaler.transform(X_test)"
   ]
  },
  {
   "cell_type": "code",
   "execution_count": null,
   "id": "9f968425",
   "metadata": {},
   "outputs": [],
   "source": [
    "def normalize_zero_size(df):\n",
    "    return df / df.iloc[0] - 1"
   ]
  },
  {
   "cell_type": "code",
   "execution_count": null,
   "id": "bfa9d949",
   "metadata": {},
   "outputs": [],
   "source": [
    "def train_test_split(df, test_size):\n",
    "    split_row = len(df) - int(test_size * len(df))\n",
    "    train_data = df.iloc[:split_row]\n",
    "    test_data = df.iloc[split_row:]\n",
    "    return train_data, test_data"
   ]
  },
  {
   "cell_type": "code",
   "execution_count": null,
   "id": "3f0677c6",
   "metadata": {},
   "outputs": [],
   "source": [
    "fig, ax = plt.subplots(1, figsize=(13,7))\n",
    "ax.plot(y_train, label='training', linewidth=2)\n",
    "ax.plot(y_test, label='test', linewidth=2)\n",
    "ax.set_ylabel(\"Price [USD]\", fontsize=14)\n",
    "ax.set_title(\"Bitcoin Prices [Training & Testing Sets]\", fontsize=16)\n",
    "ax.legend(loc='best', fontsize=16)"
   ]
  },
  {
   "cell_type": "code",
   "execution_count": null,
   "id": "de373593",
   "metadata": {},
   "outputs": [],
   "source": [
    "def extract_window_data(df, window_len, zero_base=True):\n",
    "    window_data = []\n",
    "    for idx in range(len(df) - window_len):\n",
    "        tmp = df[idx: (idx + window_len)].copy()\n",
    "        if zero_base:\n",
    "            tmp = normalize_zero_size(tmp)\n",
    "        window_data.append(tmp.values)\n",
    "    return np.array(window_data)"
   ]
  },
  {
   "cell_type": "code",
   "execution_count": null,
   "id": "c68c0704",
   "metadata": {},
   "outputs": [],
   "source": [
    "def prepare_data(df, target_col, window_len, zero_base=True, test_size, time_steps):\n",
    "    train_data, test_data = train_test_split(df, test_size=test_size)\n",
    "    X_train = extract_window_data(train_data, window_len, zero_base)\n",
    "    X_test = extract_window_data(test_data, window_len, zero_base)\n",
    "    y_train = train_data[target_col][window_len:].values\n",
    "    y_test = test_data[target_col][window_len:].values\n",
    "    if zero_base:\n",
    "        y_train = y_train / train_data[target_col][:-window_len].values - 1\n",
    "        y_test = y_test / test_data[target_col][:-window_len].values - 1\n",
    "    X_train = np.reshape(X_train, (int(X_train.shape[0]/time_steps), time_steps, X_train.shape[1]))\n",
    "    X_test = np.reshape(X_test, (int(X_test.shape[0]/time_steps), time_steps, X_test.shape[1]))\n",
    "    return train_data, test_data, X_train, X_test, y_train, y_test"
   ]
  },
  {
   "cell_type": "code",
   "execution_count": null,
   "id": "43a81d82",
   "metadata": {},
   "outputs": [],
   "source": [
    "def build_lstm_model(input_data, output_size, neurons, activ_func, dropout, loss, optimizer, metrics):\n",
    "    model = tf.keras.models.Sequential()\n",
    "    model.add(LSTM(neurons, input_shape=(input_data.shape[1], input_data.shape[2]))\n",
    "    model.add(Dropout(dropout))\n",
    "    model.add(Dense(units=output_size))\n",
    "    model.add(Activation(activ_func))\n",
    "    model.compile(loss=loss, optimizer=optimizer, metrics=metrics)\n",
    "    return model"
   ]
  },
  {
   "cell_type": "code",
   "execution_count": null,
   "id": "fd1c5d20",
   "metadata": {},
   "outputs": [],
   "source": [
    "# def build_lstm_model2(time_steps, feats_dim, num_classes, optimizer):\n",
    "#     x_in = Input(shape=(time_steps, feats_dim))\n",
    "#     h1 = LSTM(128,return_sequences=True)(x_in)\n",
    "#     h1 = Dropout(0.5)(h1)\n",
    "#     h2 = LSTM(64,return_sequences=True)(h1)\n",
    "#     h2 = Dropout(0.5)(h2)\n",
    "#     h3 = LSTM(32,return_sequences=True)(h2)\n",
    "#     h4 = LSTM(32)(h3)\n",
    "#     h4 = Dropout(0.5)(h4)\n",
    "#     out = Dense(activation='linear')(h4)\n",
    "#     model = Model(inputs=x_in, outputs=out)\n",
    "#     model.compile(optimizer=optimizer,\n",
    "#                   loss='mean_squared_error',\n",
    "#                   metrics=['accuracy'])\n",
    "#     return model"
   ]
  },
  {
   "cell_type": "code",
   "execution_count": null,
   "id": "ad266d2e",
   "metadata": {},
   "outputs": [],
   "source": [
    "window_len = 5\n",
    "test_size = 0.2\n",
    "zero_base = True\n",
    "lstm_neurons = 100\n",
    "epochs = 20\n",
    "batch_size = 32\n",
    "loss = 'mse'\n",
    "dropout = 0.2\n",
    "optimizer = 'adam'\n",
    "target_col = 'Price'\n",
    "metrics = 'accuracy'"
   ]
  },
  {
   "cell_type": "code",
   "execution_count": null,
   "id": "d002fe68",
   "metadata": {},
   "outputs": [],
   "source": [
    "train, test, X_train, X_test, y_train, y_test = prepare_data( \\\n",
    "    bit_df2, target_col, window_len=window_len, zero_base=zero_base, test_size=test_size)\n",
    "\n",
    "print(f' X (Training): {X_train.shape}')"
   ]
  },
  {
   "cell_type": "code",
   "execution_count": null,
   "id": "2ddb3475",
   "metadata": {},
   "outputs": [],
   "source": [
    "model = build_lstm_model(X_train, output_size=1, neurons=lstm_neurons, dropout=dropout, \\\n",
    "    loss=loss, optimizer=optimizer, metrics=metrics)\n"
   ]
  },
  {
   "cell_type": "code",
   "execution_count": null,
   "id": "b320b265",
   "metadata": {},
   "outputs": [],
   "source": [
    "fit_model = model.fit(X_train, y_train, epochs=epochs, batch_size=batch_size, verbose=1, shuffle=True)\n",
    "\n",
    "plt.plot(fit_model.history['loss'])\n",
    "plt.title('Model Loss')\n",
    "plt.ylabel('Loss')\n",
    "plt.xlabel('Epoch')\n",
    "plt.legend(['Train', 'Test'], loc='best')\n",
    "plt.show()"
   ]
  },
  {
   "cell_type": "code",
   "execution_count": null,
   "id": "9f9cc8d6",
   "metadata": {},
   "outputs": [],
   "source": [
    "model_loss, model_accuracy = model.evaluate(X_train, y_train, verbose=2)\n",
    "print(f' Loss: {model_loss}, Accuracy: {model_accuracy}')"
   ]
  },
  {
   "cell_type": "code",
   "execution_count": null,
   "id": "aa487f97",
   "metadata": {},
   "outputs": [],
   "source": [
    "model_loss, model_accuracy = model.evaluate(X_test, y_test, verbose=2)\n",
    "print(f' Loss: {model_loss}, Accuracy: {model_accuracy}')"
   ]
  },
  {
   "cell_type": "code",
   "execution_count": null,
   "id": "69b7db9c",
   "metadata": {},
   "outputs": [],
   "source": [
    "y_pred = model.predict(X_test).squeeze()  #The squeeze() function is used to remove single-dimensional entries from the shape of an array"
   ]
  },
  {
   "cell_type": "code",
   "execution_count": null,
   "id": "db24e6f8",
   "metadata": {},
   "outputs": [],
   "source": [
    "mean_absolute_error(y_pred, y_test)"
   ]
  },
  {
   "cell_type": "code",
   "execution_count": null,
   "id": "0d1cc34b",
   "metadata": {},
   "outputs": [],
   "source": [
    "targets = test[target_col][window_len:]\n",
    "y_pred_inverse = test[target_col].values[:-window_len] * (y_pred + 1) #Inverse Normalization to show actual values\n",
    "\n",
    "predictions = pd.Series(index=targets.index, data=y_pred_inverse)\n",
    "plt.plot(predictions, label= \"Predicted Price\", color=\"green\")\n",
    "plt.plot(targets, label= \"Actual Price\", color=\"red\")\n",
    "plt.title('Bitcoin Price Prediction')\n",
    "plt.ylabel('Price')\n",
    "plt.xlabel('Time [days]')\n",
    "plt.legend(loc='best')\n",
    "plt.show()\n"
   ]
  }
 ],
 "metadata": {
  "kernelspec": {
   "display_name": "mlenv",
   "language": "python",
   "name": "mlenv"
  },
  "language_info": {
   "codemirror_mode": {
    "name": "ipython",
    "version": 3
   },
   "file_extension": ".py",
   "mimetype": "text/x-python",
   "name": "python",
   "nbconvert_exporter": "python",
   "pygments_lexer": "ipython3",
   "version": "3.7.6"
  }
 },
 "nbformat": 4,
 "nbformat_minor": 5
}
