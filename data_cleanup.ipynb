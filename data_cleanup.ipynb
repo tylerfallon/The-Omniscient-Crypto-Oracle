{
 "cells": [
  {
   "cell_type": "code",
   "execution_count": 1,
   "id": "3d119f9c-e95b-4205-a54d-3b5c779eb32e",
   "metadata": {},
   "outputs": [],
   "source": [
    "import pandas as pd\n",
    "import glob as gl"
   ]
  },
  {
   "cell_type": "code",
   "execution_count": 2,
   "id": "1959dba2-78a7-48b1-bd62-bdf2b712e7ee",
   "metadata": {},
   "outputs": [
    {
     "data": {
      "text/plain": [
       "['Resources\\\\btcMo.csv',\n",
       " 'Resources\\\\dogeMo.csv',\n",
       " 'Resources\\\\ethMo.csv',\n",
       " 'Resources\\\\ltcMo.csv',\n",
       " 'Resources\\\\xrpMo.csv']"
      ]
     },
     "execution_count": 2,
     "metadata": {},
     "output_type": "execute_result"
    }
   ],
   "source": [
    "# Get a list of all CSV files in the current directory\n",
    "files = gl.glob('Resources/*.csv')\n",
    "files"
   ]
  },
  {
   "cell_type": "code",
   "execution_count": 3,
   "id": "c84e0de7-9dfd-41d4-a33a-463b6a86635c",
   "metadata": {},
   "outputs": [],
   "source": [
    "# Create an empty list to store each CSV file as a DataFrame\n",
    "df_list = []"
   ]
  },
  {
   "cell_type": "code",
   "execution_count": 4,
   "id": "b77eff62-b76c-4d6f-828e-bc8e25e32ad0",
   "metadata": {},
   "outputs": [],
   "source": [
    "# Loop through each file and read it into a DataFrame\n",
    "for file in files:\n",
    "    df = pd.read_csv(file, low_memory=False)\n",
    "    df_list.append(df)"
   ]
  },
  {
   "cell_type": "code",
   "execution_count": 5,
   "id": "b89a7c0a-169f-4422-bb7f-ac3469c0455e",
   "metadata": {},
   "outputs": [],
   "source": [
    "# Concatenate all DataFrames into a single DataFrame\n",
    "df_combined = pd.concat(df_list, axis=0, join='inner')"
   ]
  },
  {
   "cell_type": "code",
   "execution_count": 6,
   "id": "abe70fad-a529-4025-9798-3e7ca730d45b",
   "metadata": {
    "tags": []
   },
   "outputs": [
    {
     "name": "stdout",
     "output_type": "stream",
     "text": [
      "       time CryptoNm  AdrActCnt  AdrBal1in100KCnt  AdrBal1in100MCnt  \\\n",
      "0  1/3/2009      btc        0.0               0.0               0.0   \n",
      "1  1/4/2009      btc        0.0               0.0               0.0   \n",
      "2  1/5/2009      btc        0.0               0.0               0.0   \n",
      "3  1/6/2009      btc        0.0               0.0               0.0   \n",
      "4  1/7/2009      btc        0.0               0.0               0.0   \n",
      "\n",
      "   AdrBal1in10BCnt  AdrBal1in10KCnt  AdrBal1in10MCnt  AdrBal1in1BCnt  \\\n",
      "0              0.0              0.0              0.0             0.0   \n",
      "1              0.0              0.0              0.0             0.0   \n",
      "2              0.0              0.0              0.0             0.0   \n",
      "3              0.0              0.0              0.0             0.0   \n",
      "4              0.0              0.0              0.0             0.0   \n",
      "\n",
      "   AdrBal1in1KCnt  ...  TxTfrValAdjUSD  TxTfrValMeanNtv  TxTfrValMeanUSD  \\\n",
      "0             0.0  ...             NaN              NaN              NaN   \n",
      "1             0.0  ...             NaN              NaN              NaN   \n",
      "2             0.0  ...             NaN              NaN              NaN   \n",
      "3             0.0  ...             NaN              NaN              NaN   \n",
      "4             0.0  ...             NaN              NaN              NaN   \n",
      "\n",
      "   TxTfrValMedNtv  TxTfrValMedUSD  VelCur1yr  VtyDayRet180d  VtyDayRet30d  \\\n",
      "0             NaN             NaN        NaN            NaN           NaN   \n",
      "1             NaN             NaN        NaN            NaN           NaN   \n",
      "2             NaN             NaN        NaN            NaN           NaN   \n",
      "3             NaN             NaN        NaN            NaN           NaN   \n",
      "4             NaN             NaN        NaN            NaN           NaN   \n",
      "\n",
      "   principal_market_price_usd  principal_market_usd  \n",
      "0                         NaN                   NaN  \n",
      "1                         NaN                   NaN  \n",
      "2                         NaN                   NaN  \n",
      "3                         NaN                   NaN  \n",
      "4                         NaN                   NaN  \n",
      "\n",
      "[5 rows x 117 columns]\n"
     ]
    }
   ],
   "source": [
    "# Print the combined DataFrame\n",
    "print(df_combined.head())"
   ]
  },
  {
   "cell_type": "code",
   "execution_count": 7,
   "id": "3f10b3a0-d904-47c8-ace3-707dda0b6b7d",
   "metadata": {
    "tags": []
   },
   "outputs": [
    {
     "name": "stdout",
     "output_type": "stream",
     "text": [
      "['time', 'CryptoNm', 'AdrActCnt', 'AdrBal1in100KCnt', 'AdrBal1in100MCnt', 'AdrBal1in10BCnt', 'AdrBal1in10KCnt', 'AdrBal1in10MCnt', 'AdrBal1in1BCnt', 'AdrBal1in1KCnt', 'AdrBal1in1MCnt', 'AdrBalCnt', 'AdrBalNtv0.001Cnt', 'AdrBalNtv0.01Cnt', 'AdrBalNtv0.1Cnt', 'AdrBalNtv100Cnt', 'AdrBalNtv100KCnt', 'AdrBalNtv10Cnt', 'AdrBalNtv10KCnt', 'AdrBalNtv1Cnt', 'AdrBalNtv1KCnt', 'AdrBalNtv1MCnt', 'AdrBalUSD100Cnt', 'AdrBalUSD100KCnt', 'AdrBalUSD10Cnt', 'AdrBalUSD10KCnt', 'AdrBalUSD10MCnt', 'AdrBalUSD1Cnt', 'AdrBalUSD1KCnt', 'AdrBalUSD1MCnt', 'AssetEODCompletionTime', 'BlkCnt', 'CapAct1yrUSD', 'CapMVRVCur', 'CapMVRVFF', 'CapMrktCurUSD', 'CapMrktEstUSD', 'CapMrktFFUSD', 'CapRealUSD', 'FeeMeanNtv', 'FeeMeanUSD', 'FeeMedNtv', 'FeeMedUSD', 'FeeTotNtv', 'FeeTotUSD', 'NDF', 'NVTAdj', 'NVTAdj90', 'NVTAdjFF', 'NVTAdjFF90', 'PriceBTC', 'PriceUSD', 'ROI1yr', 'ROI30d', 'ReferenceRate', 'ReferenceRateEUR', 'ReferenceRateUSD', 'SER', 'SplyAct10yr', 'SplyAct180d', 'SplyAct1d', 'SplyAct1yr', 'SplyAct2yr', 'SplyAct30d', 'SplyAct3yr', 'SplyAct4yr', 'SplyAct5yr', 'SplyAct7d', 'SplyAct90d', 'SplyActEver', 'SplyActPct1yr', 'SplyAdrBal1in100K', 'SplyAdrBal1in100M', 'SplyAdrBal1in10B', 'SplyAdrBal1in10K', 'SplyAdrBal1in10M', 'SplyAdrBal1in1B', 'SplyAdrBal1in1K', 'SplyAdrBal1in1M', 'SplyAdrBalNtv0.001', 'SplyAdrBalNtv0.01', 'SplyAdrBalNtv0.1', 'SplyAdrBalNtv1', 'SplyAdrBalNtv10', 'SplyAdrBalNtv100', 'SplyAdrBalNtv100K', 'SplyAdrBalNtv10K', 'SplyAdrBalNtv1K', 'SplyAdrBalNtv1M', 'SplyAdrBalUSD1', 'SplyAdrBalUSD10', 'SplyAdrBalUSD100', 'SplyAdrBalUSD100K', 'SplyAdrBalUSD10K', 'SplyAdrBalUSD10M', 'SplyAdrBalUSD1K', 'SplyAdrBalUSD1M', 'SplyAdrTop100', 'SplyAdrTop10Pct', 'SplyAdrTop1Pct', 'SplyCur', 'SplyExpFut10yr', 'SplyFF', 'TxCnt', 'TxCntSec', 'TxTfrCnt', 'TxTfrValAdjNtv', 'TxTfrValAdjUSD', 'TxTfrValMeanNtv', 'TxTfrValMeanUSD', 'TxTfrValMedNtv', 'TxTfrValMedUSD', 'VelCur1yr', 'VtyDayRet180d', 'VtyDayRet30d', 'principal_market_price_usd', 'principal_market_usd']\n"
     ]
    }
   ],
   "source": [
    "# placing the column name to a list and printing the list\n",
    "column_names = df_combined.columns.tolist()\n",
    "print(column_names)"
   ]
  },
  {
   "cell_type": "code",
   "execution_count": 8,
   "id": "6b9a2d3f-eafa-4d3a-806a-e0e8e78e3bb1",
   "metadata": {},
   "outputs": [
    {
     "data": {
      "text/plain": [
       "time                           object\n",
       "CryptoNm                       object\n",
       "AdrActCnt                     float64\n",
       "AdrBal1in100KCnt              float64\n",
       "AdrBal1in100MCnt              float64\n",
       "                               ...   \n",
       "VelCur1yr                     float64\n",
       "VtyDayRet180d                 float64\n",
       "VtyDayRet30d                  float64\n",
       "principal_market_price_usd    float64\n",
       "principal_market_usd           object\n",
       "Length: 117, dtype: object"
      ]
     },
     "execution_count": 8,
     "metadata": {},
     "output_type": "execute_result"
    }
   ],
   "source": [
    "# showing data types of the dataframe\n",
    "df_combined.dtypes"
   ]
  },
  {
   "cell_type": "code",
   "execution_count": 9,
   "id": "20de330d-9f28-4064-a21a-1ac633dbc8c6",
   "metadata": {},
   "outputs": [],
   "source": [
    "# changing the 'time' column data type from object to datetime\n",
    "df_combined['time'] = pd.to_datetime(df_combined['time'])"
   ]
  },
  {
   "cell_type": "code",
   "execution_count": 10,
   "id": "81b8e82c-a132-484d-95aa-18ed75a66a40",
   "metadata": {},
   "outputs": [
    {
     "data": {
      "text/plain": [
       "time                          datetime64[ns]\n",
       "CryptoNm                              object\n",
       "AdrActCnt                            float64\n",
       "AdrBal1in100KCnt                     float64\n",
       "AdrBal1in100MCnt                     float64\n",
       "                                   ...      \n",
       "VelCur1yr                            float64\n",
       "VtyDayRet180d                        float64\n",
       "VtyDayRet30d                         float64\n",
       "principal_market_price_usd           float64\n",
       "principal_market_usd                  object\n",
       "Length: 117, dtype: object"
      ]
     },
     "execution_count": 10,
     "metadata": {},
     "output_type": "execute_result"
    }
   ],
   "source": [
    "# showing data types of the dataframe\n",
    "df_combined.dtypes"
   ]
  },
  {
   "cell_type": "code",
   "execution_count": 11,
   "id": "0358688a-a155-4c37-bf63-d5aa81b53e2e",
   "metadata": {},
   "outputs": [
    {
     "data": {
      "text/plain": [
       "time                          19195\n",
       "CryptoNm                      19195\n",
       "AdrActCnt                     19190\n",
       "AdrBal1in100KCnt              19190\n",
       "AdrBal1in100MCnt              19190\n",
       "                              ...  \n",
       "VelCur1yr                     19183\n",
       "VtyDayRet180d                 16541\n",
       "VtyDayRet30d                  17291\n",
       "principal_market_price_usd     1193\n",
       "principal_market_usd           1193\n",
       "Length: 117, dtype: int64"
      ]
     },
     "execution_count": 11,
     "metadata": {},
     "output_type": "execute_result"
    }
   ],
   "source": [
    "df_combined.count()"
   ]
  },
  {
   "cell_type": "code",
   "execution_count": 12,
   "id": "ad01bd82-98d8-4e3d-a363-42ff4941abf9",
   "metadata": {},
   "outputs": [],
   "source": [
    "# dropping any NaN values\n",
    "df_combined = df_combined.dropna(how='all')"
   ]
  },
  {
   "cell_type": "code",
   "execution_count": 13,
   "id": "8e5c85d4-16a8-4790-86ec-8ee0f15388ce",
   "metadata": {},
   "outputs": [
    {
     "data": {
      "text/plain": [
       "time                          19195\n",
       "CryptoNm                      19195\n",
       "AdrActCnt                     19190\n",
       "AdrBal1in100KCnt              19190\n",
       "AdrBal1in100MCnt              19190\n",
       "                              ...  \n",
       "VelCur1yr                     19183\n",
       "VtyDayRet180d                 16541\n",
       "VtyDayRet30d                  17291\n",
       "principal_market_price_usd     1193\n",
       "principal_market_usd           1193\n",
       "Length: 117, dtype: int64"
      ]
     },
     "execution_count": 13,
     "metadata": {},
     "output_type": "execute_result"
    }
   ],
   "source": [
    "df_combined.count()"
   ]
  },
  {
   "cell_type": "code",
   "execution_count": 14,
   "id": "fd09803e-8f5f-4c2a-b3e1-001d4640da43",
   "metadata": {},
   "outputs": [
    {
     "data": {
      "text/plain": [
       "time                          19195\n",
       "CryptoNm                      19195\n",
       "AdrActCnt                     19190\n",
       "AdrBal1in100KCnt              19190\n",
       "AdrBal1in100MCnt              19190\n",
       "                              ...  \n",
       "VelCur1yr                     19183\n",
       "VtyDayRet180d                 16541\n",
       "VtyDayRet30d                  17291\n",
       "principal_market_price_usd     1193\n",
       "principal_market_usd           1193\n",
       "Length: 117, dtype: int64"
      ]
     },
     "execution_count": 14,
     "metadata": {},
     "output_type": "execute_result"
    }
   ],
   "source": [
    "# droping any duplicates\n",
    "df_combined = df_combined.drop_duplicates()\n",
    "df_combined.count()"
   ]
  },
  {
   "cell_type": "code",
   "execution_count": 15,
   "id": "4f6f0449-835e-40e3-b6d9-3f855dfabcb0",
   "metadata": {},
   "outputs": [],
   "source": [
    "# exporting the combined dataframe to .csv\n",
    "df_combined.to_csv('Resources/combined_data.csv', index=False)"
   ]
  },
  {
   "cell_type": "code",
   "execution_count": 16,
   "id": "af6be078-ad53-4a87-9f04-ccba4e9efff3",
   "metadata": {},
   "outputs": [
    {
     "name": "stdout",
     "output_type": "stream",
     "text": [
      "           time CryptoNm  PriceUSD\n",
      "0    2009-01-03      btc       NaN\n",
      "1    2009-01-04      btc       NaN\n",
      "2    2009-01-05      btc       NaN\n",
      "3    2009-01-06      btc       NaN\n",
      "4    2009-01-07      btc       NaN\n",
      "...         ...      ...       ...\n",
      "3708 2023-02-26      xrp  0.377466\n",
      "3709 2023-02-27      xrp  0.379113\n",
      "3710 2023-02-28      xrp  0.377556\n",
      "3711 2023-03-01      xrp  0.383784\n",
      "3712 2023-03-02      xrp       NaN\n",
      "\n",
      "[19195 rows x 3 columns]\n"
     ]
    }
   ],
   "source": [
    "# Create a new DataFrame with only 'time' and 'PriceUSD'.\n",
    "df_working_data = df_combined.loc[:, ['time', 'CryptoNm', 'PriceUSD']]\n",
    "print(df_working_data)"
   ]
  },
  {
   "cell_type": "code",
   "execution_count": 17,
   "id": "d2dd07ac-ee2f-42cb-846a-abb75b5d04b1",
   "metadata": {},
   "outputs": [
    {
     "data": {
      "text/plain": [
       "time        19195\n",
       "CryptoNm    19195\n",
       "PriceUSD    17441\n",
       "dtype: int64"
      ]
     },
     "execution_count": 17,
     "metadata": {},
     "output_type": "execute_result"
    }
   ],
   "source": [
    "df_working_data.count()"
   ]
  },
  {
   "cell_type": "code",
   "execution_count": 18,
   "id": "86eced6e-288f-4528-8e50-10c667aad17c",
   "metadata": {},
   "outputs": [],
   "source": [
    "#Cleaning the data to remove any row that has a NAN value\n",
    "df_working_data = df_working_data.dropna(how='any')"
   ]
  },
  {
   "cell_type": "code",
   "execution_count": 19,
   "id": "9dabf47e-1384-4009-9a3e-8027b6857cf9",
   "metadata": {},
   "outputs": [
    {
     "data": {
      "text/plain": [
       "time        17441\n",
       "CryptoNm    17441\n",
       "PriceUSD    17441\n",
       "dtype: int64"
      ]
     },
     "execution_count": 19,
     "metadata": {},
     "output_type": "execute_result"
    }
   ],
   "source": [
    "df_working_data.count()"
   ]
  },
  {
   "cell_type": "code",
   "execution_count": 20,
   "id": "5a29b80b-ae3a-4a8d-ad0b-49af44f20ca9",
   "metadata": {},
   "outputs": [
    {
     "data": {
      "text/plain": [
       "time        17441\n",
       "CryptoNm    17441\n",
       "PriceUSD    17441\n",
       "dtype: int64"
      ]
     },
     "execution_count": 20,
     "metadata": {},
     "output_type": "execute_result"
    }
   ],
   "source": [
    "# cleaning the data to remove any duplicates\n",
    "df_working_data = df_working_data.drop_duplicates()\n",
    "df_working_data.count()"
   ]
  },
  {
   "cell_type": "code",
   "execution_count": 21,
   "id": "66856ffd-e399-49dc-87e1-588a6a926ef1",
   "metadata": {},
   "outputs": [],
   "source": [
    "# Changing column name\n",
    "df_working_data = df_working_data.rename(columns={'CryptoNm': 'Symbol'})"
   ]
  },
  {
   "cell_type": "code",
   "execution_count": 22,
   "id": "cf108a8e-b6d5-401e-b955-1bd7892b2784",
   "metadata": {},
   "outputs": [
    {
     "name": "stdout",
     "output_type": "stream",
     "text": [
      "           time Symbol  PriceUSD\n",
      "561  2010-07-18    btc  0.085840\n",
      "562  2010-07-19    btc  0.080800\n",
      "563  2010-07-20    btc  0.074736\n",
      "564  2010-07-21    btc  0.079193\n",
      "565  2010-07-22    btc  0.058470\n",
      "...         ...    ...       ...\n",
      "3707 2023-02-25    xrp  0.377417\n",
      "3708 2023-02-26    xrp  0.377466\n",
      "3709 2023-02-27    xrp  0.379113\n",
      "3710 2023-02-28    xrp  0.377556\n",
      "3711 2023-03-01    xrp  0.383784\n",
      "\n",
      "[17441 rows x 3 columns]\n"
     ]
    }
   ],
   "source": [
    "print(df_working_data)"
   ]
  },
  {
   "cell_type": "code",
   "execution_count": 23,
   "id": "59c79d03-59f8-48a6-bc6a-442015613f71",
   "metadata": {},
   "outputs": [
    {
     "data": {
      "text/html": [
       "<div>\n",
       "<style scoped>\n",
       "    .dataframe tbody tr th:only-of-type {\n",
       "        vertical-align: middle;\n",
       "    }\n",
       "\n",
       "    .dataframe tbody tr th {\n",
       "        vertical-align: top;\n",
       "    }\n",
       "\n",
       "    .dataframe thead th {\n",
       "        text-align: right;\n",
       "    }\n",
       "</style>\n",
       "<table border=\"1\" class=\"dataframe\">\n",
       "  <thead>\n",
       "    <tr style=\"text-align: right;\">\n",
       "      <th></th>\n",
       "      <th>time</th>\n",
       "      <th>Symbol</th>\n",
       "      <th>PriceUSD</th>\n",
       "      <th>Percent of Change</th>\n",
       "    </tr>\n",
       "  </thead>\n",
       "  <tbody>\n",
       "    <tr>\n",
       "      <th>561</th>\n",
       "      <td>2010-07-18</td>\n",
       "      <td>btc</td>\n",
       "      <td>0.085840</td>\n",
       "      <td>0</td>\n",
       "    </tr>\n",
       "    <tr>\n",
       "      <th>562</th>\n",
       "      <td>2010-07-19</td>\n",
       "      <td>btc</td>\n",
       "      <td>0.080800</td>\n",
       "      <td>0</td>\n",
       "    </tr>\n",
       "    <tr>\n",
       "      <th>563</th>\n",
       "      <td>2010-07-20</td>\n",
       "      <td>btc</td>\n",
       "      <td>0.074736</td>\n",
       "      <td>0</td>\n",
       "    </tr>\n",
       "    <tr>\n",
       "      <th>564</th>\n",
       "      <td>2010-07-21</td>\n",
       "      <td>btc</td>\n",
       "      <td>0.079193</td>\n",
       "      <td>0</td>\n",
       "    </tr>\n",
       "    <tr>\n",
       "      <th>565</th>\n",
       "      <td>2010-07-22</td>\n",
       "      <td>btc</td>\n",
       "      <td>0.058470</td>\n",
       "      <td>0</td>\n",
       "    </tr>\n",
       "  </tbody>\n",
       "</table>\n",
       "</div>"
      ],
      "text/plain": [
       "          time Symbol  PriceUSD  Percent of Change\n",
       "561 2010-07-18    btc  0.085840                  0\n",
       "562 2010-07-19    btc  0.080800                  0\n",
       "563 2010-07-20    btc  0.074736                  0\n",
       "564 2010-07-21    btc  0.079193                  0\n",
       "565 2010-07-22    btc  0.058470                  0"
      ]
     },
     "execution_count": 23,
     "metadata": {},
     "output_type": "execute_result"
    }
   ],
   "source": [
    "# create a new column to store the percent change values\n",
    "df_working_data['Percent of Change'] = 0\n",
    "df_working_data.head()"
   ]
  },
  {
   "cell_type": "code",
   "execution_count": 25,
   "id": "78a64771-e5ac-41d4-9cce-e17bcfcc75f9",
   "metadata": {},
   "outputs": [
    {
     "data": {
      "text/html": [
       "<div>\n",
       "<style scoped>\n",
       "    .dataframe tbody tr th:only-of-type {\n",
       "        vertical-align: middle;\n",
       "    }\n",
       "\n",
       "    .dataframe tbody tr th {\n",
       "        vertical-align: top;\n",
       "    }\n",
       "\n",
       "    .dataframe thead th {\n",
       "        text-align: right;\n",
       "    }\n",
       "</style>\n",
       "<table border=\"1\" class=\"dataframe\">\n",
       "  <thead>\n",
       "    <tr style=\"text-align: right;\">\n",
       "      <th></th>\n",
       "      <th>time</th>\n",
       "      <th>Symbol</th>\n",
       "      <th>PriceUSD</th>\n",
       "      <th>Percent of Change</th>\n",
       "    </tr>\n",
       "  </thead>\n",
       "  <tbody>\n",
       "    <tr>\n",
       "      <th>0</th>\n",
       "      <td>2010-07-18</td>\n",
       "      <td>btc</td>\n",
       "      <td>0.085840</td>\n",
       "      <td>0</td>\n",
       "    </tr>\n",
       "    <tr>\n",
       "      <th>1</th>\n",
       "      <td>2010-07-19</td>\n",
       "      <td>btc</td>\n",
       "      <td>0.080800</td>\n",
       "      <td>0</td>\n",
       "    </tr>\n",
       "    <tr>\n",
       "      <th>2</th>\n",
       "      <td>2010-07-20</td>\n",
       "      <td>btc</td>\n",
       "      <td>0.074736</td>\n",
       "      <td>0</td>\n",
       "    </tr>\n",
       "    <tr>\n",
       "      <th>3</th>\n",
       "      <td>2010-07-21</td>\n",
       "      <td>btc</td>\n",
       "      <td>0.079193</td>\n",
       "      <td>0</td>\n",
       "    </tr>\n",
       "    <tr>\n",
       "      <th>4</th>\n",
       "      <td>2010-07-22</td>\n",
       "      <td>btc</td>\n",
       "      <td>0.058470</td>\n",
       "      <td>0</td>\n",
       "    </tr>\n",
       "  </tbody>\n",
       "</table>\n",
       "</div>"
      ],
      "text/plain": [
       "        time Symbol  PriceUSD  Percent of Change\n",
       "0 2010-07-18    btc  0.085840                  0\n",
       "1 2010-07-19    btc  0.080800                  0\n",
       "2 2010-07-20    btc  0.074736                  0\n",
       "3 2010-07-21    btc  0.079193                  0\n",
       "4 2010-07-22    btc  0.058470                  0"
      ]
     },
     "execution_count": 25,
     "metadata": {},
     "output_type": "execute_result"
    }
   ],
   "source": [
    "# resetting the index for the combined data frame\n",
    "df_working_data = df_working_data.reset_index(drop=True)\n",
    "df_working_data.head()"
   ]
  },
  {
   "cell_type": "code",
   "execution_count": 28,
   "id": "c969bf5b-5be6-4df2-84d3-29c43db933d2",
   "metadata": {},
   "outputs": [],
   "source": [
    "# loop through the rows and calculate the percent change for each day\n",
    "for i in range(1, len(df_working_data)):\n",
    "    current_val = df_working_data.loc[i, 'PriceUSD']\n",
    "    prev_val = df_working_data.loc[i-1, 'PriceUSD']\n",
    "    percent_change = (current_val - prev_val) / prev_val * 100\n",
    "    df_working_data.loc[i, 'Percent of Change'] = percent_change"
   ]
  },
  {
   "cell_type": "code",
   "execution_count": 29,
   "id": "02593658-4dbc-4bbe-9c64-825ba7ed3f2e",
   "metadata": {},
   "outputs": [
    {
     "name": "stdout",
     "output_type": "stream",
     "text": [
      "            time Symbol  PriceUSD  Percent of Change\n",
      "0     2010-07-18    btc  0.085840           0.000000\n",
      "1     2010-07-19    btc  0.080800          -5.871389\n",
      "2     2010-07-20    btc  0.074736          -7.505286\n",
      "3     2010-07-21    btc  0.079193           5.963860\n",
      "4     2010-07-22    btc  0.058470         -26.167892\n",
      "...          ...    ...       ...                ...\n",
      "17436 2023-02-25    xrp  0.377417          -0.224197\n",
      "17437 2023-02-26    xrp  0.377466           0.012875\n",
      "17438 2023-02-27    xrp  0.379113           0.436297\n",
      "17439 2023-02-28    xrp  0.377556          -0.410464\n",
      "17440 2023-03-01    xrp  0.383784           1.649344\n",
      "\n",
      "[17441 rows x 4 columns]\n"
     ]
    }
   ],
   "source": [
    "# print the resulting dataframe\n",
    "print(df_working_data)"
   ]
  },
  {
   "cell_type": "code",
   "execution_count": 30,
   "id": "0af07db6-3fe6-4288-a1ea-0a033b30a262",
   "metadata": {},
   "outputs": [],
   "source": [
    "# exporting DataFrame to .csv file\n",
    "df_working_data.to_csv('Resources/Percent_of_change_dataset.csv', index=False)"
   ]
  },
  {
   "cell_type": "code",
   "execution_count": null,
   "id": "31b062fb-77e7-4dc5-a242-0a1f3dd20143",
   "metadata": {},
   "outputs": [],
   "source": []
  }
 ],
 "metadata": {
  "kernelspec": {
   "display_name": "Python 3 (ipykernel)",
   "language": "python",
   "name": "python3"
  },
  "language_info": {
   "codemirror_mode": {
    "name": "ipython",
    "version": 3
   },
   "file_extension": ".py",
   "mimetype": "text/x-python",
   "name": "python",
   "nbconvert_exporter": "python",
   "pygments_lexer": "ipython3",
   "version": "3.7.13"
  }
 },
 "nbformat": 4,
 "nbformat_minor": 5
}
